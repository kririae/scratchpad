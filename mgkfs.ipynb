{
 "cells": [
  {
   "cell_type": "code",
   "execution_count": 90,
   "metadata": {},
   "outputs": [
    {
     "name": "stdout",
     "output_type": "stream",
     "text": [
      "[Taichi] Starting on arch=cuda\n"
     ]
    }
   ],
   "source": [
    "import numpy as np\n",
    "import taichi as ti\n",
    "import scipy\n",
    "\n",
    "ti.init(arch=ti.gpu)"
   ]
  },
  {
   "cell_type": "code",
   "execution_count": 83,
   "metadata": {},
   "outputs": [],
   "source": [
    "def erf(x):\n",
    "    # save the sign of x\n",
    "    sign = 1 if x >= 0 else -1\n",
    "    x = abs(x)\n",
    "\n",
    "    # constants\n",
    "    a1 = 0.254829592\n",
    "    a2 = -0.284496736\n",
    "    a3 = 1.421413741\n",
    "    a4 = -1.453152027\n",
    "    a5 = 1.061405429\n",
    "    p = 0.3275911\n",
    "\n",
    "    # A&S formula 7.1.26\n",
    "    t = 1.0 / (1.0 + p * x)\n",
    "    y = 1.0 - (((((a5 * t + a4) * t) + a3) * t + a2) * t + a1) * t * ti.exp(-x * x)\n",
    "    return sign * y\n",
    "\n",
    "\n",
    "def erfc(x):\n",
    "    return 1 - erf(x)"
   ]
  },
  {
   "cell_type": "code",
   "execution_count": 84,
   "metadata": {},
   "outputs": [],
   "source": [
    "def mgkfs_recursive_moments(T0, T1, u, mfp):\n",
    "    m = np.array([0.0, 0.0, 0.0, 0.0, 0.0, 0.0, 0.0])\n",
    "    m[0] = T0\n",
    "    m[1] = T1\n",
    "    for k in range(5):\n",
    "        m[k + 2] = m[k + 1] * u + m[k] * (k + 1) / (2 * mfp)\n",
    "    return m"
   ]
  },
  {
   "cell_type": "code",
   "execution_count": 85,
   "metadata": {},
   "outputs": [],
   "source": [
    "D = 2\n",
    "K = 0\n",
    "b = K + D\n",
    "\n",
    "PI = 3.1415926535897\n",
    "EPS = 1e-3\n",
    "CFL = 0.4\n",
    "\n",
    "c_s = 1\n",
    "T_ref = 1.0\n",
    "gamma = (b + 2) / b\n",
    "Rg = c_s**2 / (gamma * T_ref) "
   ]
  },
  {
   "cell_type": "code",
   "execution_count": 106,
   "metadata": {},
   "outputs": [
    {
     "name": "stdout",
     "output_type": "stream",
     "text": [
      "1.0 1.0\n"
     ]
    }
   ],
   "source": [
    "rho_L, rho_R = 1.2, 1.2\n",
    "u1_L, u1_R = -0.5, -0.5\n",
    "u2_L, u2_R = 0.6, 0.6\n",
    "T_L, T_R = 1.0, 1.0\n",
    "mfp_L, mfp_R = 1.0 / (2 * Rg * T_L), 1.0 / (2 * Rg * T_R)\n",
    "print(mfp_L, mfp_R)"
   ]
  },
  {
   "cell_type": "code",
   "execution_count": 107,
   "metadata": {},
   "outputs": [
    {
     "name": "stdout",
     "output_type": "stream",
     "text": [
      "[0.23974999 0.09982065 0.06996467 0.06483831 0.07252785 0.0934127\n",
      " 0.13461328]\n",
      "[ 0.76025001 -0.59982065  0.68003533 -0.93983831  1.48997215 -2.6246627\n",
      "  5.03726172]\n"
     ]
    }
   ],
   "source": [
    "T0 = erfc(-ti.sqrt(mfp_L) * u1_L) / 2.0\n",
    "# T0 = scipy.special.erfc(-ti.sqrt(mfp_L) * u1_L) / 2.0\n",
    "T1 = u1_L * T0 + ti.exp(-mfp_L * u1_L**2) / (2 * ti.sqrt(PI * mfp_L))\n",
    "M_L = mgkfs_recursive_moments(T0, T1, u1_L, mfp_L)\n",
    "\n",
    "T0 = erfc(ti.sqrt(mfp_R) * u1_R) / 2.0\n",
    "# T0 = scipy.special.erfc(ti.sqrt(mfp_R) * u1_R) / 2.0\n",
    "T1 = u1_R * T0 - ti.exp(-mfp_R * u1_R**2) / (2 * ti.sqrt(PI * mfp_R))\n",
    "M_R = mgkfs_recursive_moments(T0, T1, u1_R, mfp_R)\n",
    "\n",
    "print(M_L)\n",
    "print(M_R)"
   ]
  },
  {
   "cell_type": "code",
   "execution_count": 108,
   "metadata": {},
   "outputs": [
    {
     "name": "stdout",
     "output_type": "stream",
     "text": [
      "1.2\n",
      "-0.5\n",
      "0.6\n"
     ]
    }
   ],
   "source": [
    "rho_i = M_L[0] * rho_L + M_R[0] * rho_R\n",
    "u1 = (M_L[1] * rho_L + M_R[1] * rho_R) / rho_i\n",
    "u2 = (M_L[0] * rho_L * u2_L + M_R[0] * rho_R * u2_R) / rho_i\n",
    "\n",
    "print(rho_i)\n",
    "print(u1)\n",
    "print(u2)"
   ]
  },
  {
   "cell_type": "code",
   "execution_count": 109,
   "metadata": {},
   "outputs": [
    {
     "name": "stdout",
     "output_type": "stream",
     "text": [
      "1.0000000000000002\n"
     ]
    }
   ],
   "source": [
    "T0 = (u2_L**2 + (b - 1) * Rg * T_L) * M_L[0]\n",
    "T1 = (u2_R**2 + (b - 1) * Rg * T_R) * M_R[0]\n",
    "E_i = ((M_L[2] + T0) * rho_L + (M_R[2] + T1) * rho_R) / (2 * rho_i)\n",
    "e_i = ti.max(E_i - (u1**2 + u2**2) / 2.0, EPS)\n",
    "mfp_i = 1.0 / (2 * e_i * (gamma - 1))\n",
    "\n",
    "print(mfp_i)"
   ]
  }
 ],
 "metadata": {
  "kernelspec": {
   "display_name": ".venv",
   "language": "python",
   "name": "python3"
  },
  "language_info": {
   "codemirror_mode": {
    "name": "ipython",
    "version": 3
   },
   "file_extension": ".py",
   "mimetype": "text/x-python",
   "name": "python",
   "nbconvert_exporter": "python",
   "pygments_lexer": "ipython3",
   "version": "3.11.10"
  }
 },
 "nbformat": 4,
 "nbformat_minor": 2
}
