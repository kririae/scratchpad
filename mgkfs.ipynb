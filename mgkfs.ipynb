{
 "cells": [
  {
   "cell_type": "code",
   "execution_count": 84,
   "metadata": {},
   "outputs": [
    {
     "name": "stdout",
     "output_type": "stream",
     "text": [
      "[Taichi] Starting on arch=cuda\n"
     ]
    }
   ],
   "source": [
    "import numpy as np\n",
    "import taichi as ti\n",
    "import matplotlib.pyplot as plt\n",
    "import scipy\n",
    "\n",
    "ti.init(arch=ti.gpu)"
   ]
  },
  {
   "cell_type": "code",
   "execution_count": 85,
   "metadata": {},
   "outputs": [],
   "source": [
    "def erf(x):\n",
    "    # save the sign of x\n",
    "    sign = 1 if x >= 0 else -1\n",
    "    x = abs(x)\n",
    "\n",
    "    # constants\n",
    "    a1 = 0.254829592\n",
    "    a2 = -0.284496736\n",
    "    a3 = 1.421413741\n",
    "    a4 = -1.453152027\n",
    "    a5 = 1.061405429\n",
    "    p = 0.3275911\n",
    "\n",
    "    # A&S formula 7.1.26\n",
    "    t = 1.0 / (1.0 + p * x)\n",
    "    y = 1.0 - (((((a5 * t + a4) * t) + a3) * t + a2) * t + a1) * t * ti.exp(-x * x)\n",
    "    return sign * y\n",
    "\n",
    "\n",
    "def erfc(x):\n",
    "    return 1 - erf(x)"
   ]
  },
  {
   "cell_type": "code",
   "execution_count": 86,
   "metadata": {},
   "outputs": [],
   "source": [
    "def mgkfs_recursive_moments(T0, T1, u, mfp):\n",
    "    m = np.array([0.0, 0.0, 0.0, 0.0, 0.0, 0.0, 0.0])\n",
    "    m[0] = T0\n",
    "    m[1] = T1\n",
    "    for k in range(5):\n",
    "        m[k + 2] = m[k + 1] * u + m[k] * (k + 1) / (2 * mfp)\n",
    "    return m"
   ]
  },
  {
   "cell_type": "code",
   "execution_count": 87,
   "metadata": {},
   "outputs": [
    {
     "name": "stdout",
     "output_type": "stream",
     "text": [
      "1.6666666666666667\n"
     ]
    }
   ],
   "source": [
    "D = 2\n",
    "K = 1\n",
    "b = K + D\n",
    "\n",
    "PI = 3.1415926535897\n",
    "EPS = 1e-3\n",
    "CFL = 0.4\n",
    "\n",
    "c_s = 1\n",
    "T_ref = 1.0\n",
    "gamma = (b + 2) / b\n",
    "Rg = c_s**2 / (gamma * T_ref)\n",
    "\n",
    "tau = 0.123\n",
    "print(gamma)"
   ]
  },
  {
   "cell_type": "code",
   "execution_count": 88,
   "metadata": {},
   "outputs": [
    {
     "name": "stdout",
     "output_type": "stream",
     "text": [
      "0.8333333333333334 0.6944444444444444\n"
     ]
    }
   ],
   "source": [
    "rho_L, rho_R = 1.2, 1.3\n",
    "u1_L, u1_R = -0.5, 0.5\n",
    "u2_L, u2_R = 0.6, 0.8\n",
    "T_L, T_R = 1.0, 1.2\n",
    "mfp_L, mfp_R = 1.0 / (2 * Rg * T_L), 1.0 / (2 * Rg * T_R)\n",
    "print(mfp_L, mfp_R)"
   ]
  },
  {
   "cell_type": "code",
   "execution_count": 89,
   "metadata": {},
   "outputs": [
    {
     "name": "stdout",
     "output_type": "stream",
     "text": [
      "[0.25930245 0.12125283 0.09495505 0.09802587 0.12190616 0.174309\n",
      " 0.27856399]\n",
      "[ 0.27784485 -0.14564027  0.12722816 -0.14610791  0.20175887 -0.31991135\n",
      "  0.56637624]\n",
      "[ 1.        0.6       0.96      1.296     2.5056    4.61376  10.285056]\n",
      "[ 1.        0.8       1.36      2.24      4.7296   10.23488  25.214464]\n"
     ]
    }
   ],
   "source": [
    "T0 = erfc(-ti.sqrt(mfp_L) * u1_L) / 2.0\n",
    "# T0 = scipy.special.erfc(-ti.sqrt(mfp_L) * u1_L) / 2.0\n",
    "T1 = u1_L * T0 + ti.exp(-mfp_L * u1_L**2) / (2 * ti.sqrt(PI * mfp_L))\n",
    "M_L = mgkfs_recursive_moments(T0, T1, u1_L, mfp_L)\n",
    "\n",
    "T0 = erfc(ti.sqrt(mfp_R) * u1_R) / 2.0\n",
    "# T0 = scipy.special.erfc(ti.sqrt(mfp_R) * u1_R) / 2.0\n",
    "T1 = u1_R * T0 - ti.exp(-mfp_R * u1_R**2) / (2 * ti.sqrt(PI * mfp_R))\n",
    "M_R = mgkfs_recursive_moments(T0, T1, u1_R, mfp_R)\n",
    "\n",
    "M_CL = mgkfs_recursive_moments(1, u2_L, u2_L, mfp_L)\n",
    "M_CR = mgkfs_recursive_moments(1, u2_R, u2_R, mfp_R)\n",
    "\n",
    "print(M_L)\n",
    "print(M_R)\n",
    "print(M_CL)\n",
    "print(M_CR)"
   ]
  },
  {
   "cell_type": "code",
   "execution_count": 90,
   "metadata": {},
   "outputs": [
    {
     "name": "stdout",
     "output_type": "stream",
     "text": [
      "0.6723612427582903\n",
      "-0.06518662144045397\n",
      "0.7074417392067288\n"
     ]
    }
   ],
   "source": [
    "rho_i = M_L[0] * rho_L + M_R[0] * rho_R\n",
    "u1 = (M_L[1] * rho_L + M_R[1] * rho_R) / rho_i\n",
    "u2 = (M_L[0] * rho_L * u2_L + M_R[0] * rho_R * u2_R) / rho_i\n",
    "\n",
    "print(rho_i)\n",
    "print(u1)\n",
    "print(u2)"
   ]
  },
  {
   "cell_type": "code",
   "execution_count": 91,
   "metadata": {},
   "outputs": [
    {
     "name": "stdout",
     "output_type": "stream",
     "text": [
      "0.8570984985898427\n"
     ]
    }
   ],
   "source": [
    "T0 = (u2_L**2 + (b - 1) * Rg * T_L) * M_L[0]\n",
    "T1 = (u2_R**2 + (b - 1) * Rg * T_R) * M_R[0]\n",
    "E_i = ((M_L[2] + T0) * rho_L + (M_R[2] + T1) * rho_R) / (2 * rho_i)\n",
    "e_i = ti.max(E_i - (u1**2 + u2**2) / 2.0, EPS)\n",
    "mfp_i = 1.0 / (2 * e_i * (gamma - 1))\n",
    "\n",
    "print(mfp_i)"
   ]
  },
  {
   "cell_type": "code",
   "execution_count": 92,
   "metadata": {},
   "outputs": [],
   "source": [
    "# get a random series of moments\n",
    "a_L = np.array([0.0, 1.0, 2.0, 3.0])\n",
    "b_L = np.array([0.0, 1.2, 2.2, 3.2])\n",
    "a_R = np.array([0.0, 1.1, 2.1, 3.1])\n",
    "b_R = np.array([0.0, 1.6, 2.6, 3.6])"
   ]
  },
  {
   "cell_type": "code",
   "execution_count": 112,
   "metadata": {},
   "outputs": [],
   "source": [
    "def mgkfs_zeta_moments(mfp):\n",
    "    return np.array([0.0, 0.0, K / (2 * mfp), 0.0, 3 * K / (4 * mfp**2) + K * (K - 1) / (4 * mfp**2)])\n",
    "\n",
    "\n",
    "def mgkfs_combined_moments(i, j, Mx, My):\n",
    "    return Mx[i] * My[j]\n",
    "\n",
    "\n",
    "def mgkfs_high_order_base(a, b, Mx, My, oi, oj):\n",
    "    return (\n",
    "        a[0] * mgkfs_combined_moments(1 + oi, 0 + oj, Mx, My)\n",
    "        + a[1] * mgkfs_combined_moments(2 + oi, 0 + oj, Mx, My)\n",
    "        + a[3] * mgkfs_combined_moments(3 + oi, 0 + oj, Mx, My) / 2.0\n",
    "        + b[0] * mgkfs_combined_moments(0 + oi, 1 + oj, Mx, My)\n",
    "        + (a[2] + b[1]) * mgkfs_combined_moments(1 + oi, 1 + oj, Mx, My)\n",
    "        + b[3] * mgkfs_combined_moments(2 + oi, 1 + oj, Mx, My) / 2.0\n",
    "        + b[2] * mgkfs_combined_moments(0 + oi, 2 + oj, Mx, My)\n",
    "        + a[3] * mgkfs_combined_moments(1 + oi, 2 + oj, Mx, My) / 2.0\n",
    "        + b[3] * mgkfs_combined_moments(0 + oi, 3 + oj, Mx, My) / 2.0\n",
    "    )\n",
    "\n",
    "\n",
    "def mgkfs_F0_base(B, Mx, My, tau, oi, oj):\n",
    "    return mgkfs_combined_moments(1 + oi, 0 + oj, Mx, My) - tau * (\n",
    "        B[0] * mgkfs_combined_moments(1 + oi, 0 + oj, Mx, My)\n",
    "        + B[1] * mgkfs_combined_moments(2 + oi, 0 + oj, Mx, My)\n",
    "        + B[2] * mgkfs_combined_moments(1 + oi, 1 + oj, Mx, My)\n",
    "        + B[3] * mgkfs_combined_moments(3 + oi, 0 + oj, Mx, My) / 2.0\n",
    "        + B[3] * mgkfs_combined_moments(1 + oi, 2 + oj, Mx, My) / 2.0\n",
    "    )\n",
    "\n",
    "\n",
    "def mgkfs_solve_for_coeff(h0, h1, h2, h3, u1, u2, mfp):\n",
    "    r0 = u1**2 + u2**2 + (K + 2) / (2 * mfp)\n",
    "    r1 = h1 - u1 * h0\n",
    "    r2 = h2 - u2 * h0\n",
    "    r3 = 2 * h3 - r0 * h0\n",
    "    a3 = (4 * mfp**2) / (K + 2) * (r3 - 2 * u1 * r1 - 2 * u2 * r2)\n",
    "    a2 = 2 * mfp * r2 - u2 * a3\n",
    "    a1 = 2 * mfp * r1 - u1 * a3\n",
    "    a0 = h0 - u1 * a1 - u2 * a2 - a3 * r0 / 2\n",
    "    return np.array([a0, a1, a2, a3])\n",
    "\n",
    "\n",
    "def mgkfs_high_order_zeta_base(a, b, Mx, My, Mz, oi, oj):\n",
    "    return (\n",
    "        a[3] * Mz[2] * mgkfs_combined_moments(1 + oi, 0 + oj, Mx, My)\n",
    "        + b[3] * Mz[2] * mgkfs_combined_moments(0 + oi, 1 + oj, Mx, My)\n",
    "    ) / 2.0\n",
    "\n",
    "\n",
    "def mgkfs_high_order_zeta_residual(a, b, Mx, My, Mz, oi):\n",
    "    return (\n",
    "        a[0] * Mz[2] * mgkfs_combined_moments(1 + oi, 0, Mx, My) / 2.0\n",
    "        + a[3] * Mz[4] * mgkfs_combined_moments(1 + oi, 0, Mx, My) / 4.0\n",
    "        + a[1] * Mz[2] * mgkfs_combined_moments(2 + oi, 0, Mx, My) / 2.0\n",
    "        + a[3] * Mz[2] * mgkfs_combined_moments(3 + oi, 0, Mx, My) / 2.0\n",
    "        + b[0] * Mz[2] * mgkfs_combined_moments(0 + oi, 1, Mx, My) / 2.0\n",
    "        + b[3] * Mz[4] * mgkfs_combined_moments(0 + oi, 1, Mx, My) / 4.0\n",
    "        + a[2] * Mz[2] * mgkfs_combined_moments(1 + oi, 1, Mx, My) / 2.0\n",
    "        + b[1] * Mz[2] * mgkfs_combined_moments(1 + oi, 1, Mx, My) / 2.0\n",
    "        + b[3] * Mz[2] * mgkfs_combined_moments(2 + oi, 1, Mx, My) / 2.0\n",
    "        + b[2] * Mz[2] * mgkfs_combined_moments(0 + oi, 2, Mx, My) / 2.0\n",
    "        + a[3] * Mz[2] * mgkfs_combined_moments(1 + oi, 2, Mx, My) / 2.0\n",
    "        + b[3] * Mz[2] * mgkfs_combined_moments(0 + oi, 3, Mx, My) / 2.0\n",
    "    )\n",
    "\n",
    "\n",
    "def mgkfs_F0_zeta_base(B, Mx, My, Mz, tau, oi, oj):\n",
    "    return -tau * B[3] * Mz[2] * mgkfs_combined_moments(1 + oi, 0 + oj, Mx, My) / 2.0"
   ]
  },
  {
   "cell_type": "code",
   "execution_count": 98,
   "metadata": {},
   "outputs": [
    {
     "name": "stdout",
     "output_type": "stream",
     "text": [
      "0.8333333333333334\n",
      "2.501258740623951 1.6282271290082444 3.5790688758388103 4.853783003040957\n",
      "1.5868522036408579 -0.5248143206091394 3.3469466570096804 4.386302382312192\n",
      "[ 5.4131401  -3.58159378 -7.52227801 -6.3094385 ]\n"
     ]
    }
   ],
   "source": [
    "Mz_L = mgkfs_zeta_moments(mfp_L)\n",
    "Mz_I = mgkfs_zeta_moments(mfp_i)\n",
    "Mz_R = mgkfs_zeta_moments(mfp_R)\n",
    "\n",
    "h0_L = mgkfs_high_order_base(a_L, b_L, M_L, M_CL, 0, 0) + mgkfs_high_order_zeta_base(a_L, b_L, M_L, M_CL, Mz_L, 0, 0)\n",
    "h1_L = mgkfs_high_order_base(a_L, b_L, M_L, M_CL, 1, 0) + mgkfs_high_order_zeta_base(a_L, b_L, M_L, M_CL, Mz_L, 1, 0)\n",
    "h2_L = mgkfs_high_order_base(a_L, b_L, M_L, M_CL, 0, 1) + mgkfs_high_order_zeta_base(a_L, b_L, M_L, M_CL, Mz_L, 0, 1)\n",
    "h3_L = (\n",
    "    mgkfs_high_order_base(a_L, b_L, M_L, M_CL, 2, 0) + mgkfs_high_order_base(a_L, b_L, M_L, M_CL, 0, 2)\n",
    ") / 2.0 + mgkfs_high_order_zeta_residual(a_L, b_L, M_L, M_CL, Mz_L, 0)\n",
    "\n",
    "h0_R = mgkfs_high_order_base(a_R, b_R, M_R, M_CR, 0, 0) + mgkfs_high_order_zeta_base(a_R, b_R, M_R, M_CR, Mz_R, 0, 0)\n",
    "h1_R = mgkfs_high_order_base(a_R, b_R, M_R, M_CR, 1, 0) + mgkfs_high_order_zeta_base(a_R, b_R, M_R, M_CR, Mz_R, 1, 0)\n",
    "h2_R = mgkfs_high_order_base(a_R, b_R, M_R, M_CR, 0, 1) + mgkfs_high_order_zeta_base(a_R, b_R, M_R, M_CR, Mz_R, 0, 1)\n",
    "h3_R = (\n",
    "    mgkfs_high_order_base(a_R, b_R, M_R, M_CR, 2, 0) + mgkfs_high_order_base(a_R, b_R, M_R, M_CR, 0, 2)\n",
    ") / 2.0 + mgkfs_high_order_zeta_residual(a_R, b_R, M_R, M_CR, Mz_R, 0)\n",
    "\n",
    "h0 = -(rho_L * h0_L + rho_R * h0_R) / rho_i\n",
    "h1 = -(rho_L * h1_L + rho_R * h1_R) / rho_i\n",
    "h2 = -(rho_L * h2_L + rho_R * h2_R) / rho_i\n",
    "h3 = -(rho_L * h3_L + rho_R * h3_R) / rho_i\n",
    "\n",
    "B = mgkfs_solve_for_coeff(h0, h1, h2, h3, u1, u2, mfp_i)\n",
    "print(mfp_L)\n",
    "print(h0_L * rho_L, h1_L * rho_L, h2_L * rho_L, h3_L * rho_L)\n",
    "print(h0_R, h1_R, h2_R, h3_R)\n",
    "print(B)"
   ]
  },
  {
   "cell_type": "code",
   "execution_count": 115,
   "metadata": {},
   "outputs": [],
   "source": [
    "MX = mgkfs_recursive_moments(1, u1, u1, mfp_i)\n",
    "MY = mgkfs_recursive_moments(1, u2, u2, mfp_i)\n",
    "\n",
    "F1_I = rho_i * (mgkfs_F0_base(B, MX, MY, tau, 1, 0) + mgkfs_F0_zeta_base(B, MX, MY, Mz_I, tau, 1, 0))\n",
    "F2_I = rho_i * (mgkfs_F0_base(B, MX, MY, tau, 0, 1) + mgkfs_F0_zeta_base(B, MX, MY, Mz_I, tau, 0, 1))\n",
    "F3_I = rho_i * (\n",
    "    (mgkfs_F0_base(B, MX, MY, tau, 2, 0) + mgkfs_F0_base(B, MX, MY, tau, 0, 2)) / 2.0\n",
    "    + Mz_I[2] * mgkfs_combined_moments(1, 0, MX, MY) / 2.0\n",
    "    - tau\n",
    "    * (\n",
    "        B[0] * Mz_I[2] * mgkfs_combined_moments(1, 0, MX, MY) / 2.0\n",
    "        + B[3] * Mz_I[4] * mgkfs_combined_moments(1, 0, MX, MY) / 4.0\n",
    "        + B[1] * Mz_I[2] * mgkfs_combined_moments(2, 0, MX, MY) / 2.0\n",
    "        + B[3] * Mz_I[2] * mgkfs_combined_moments(3, 0, MX, MY) / 2.0\n",
    "        + B[2] * Mz_I[2] * mgkfs_combined_moments(1, 1, MX, MY) / 2.0\n",
    "        + B[3] * Mz_I[2] * mgkfs_combined_moments(1, 2, MX, MY) / 2.0\n",
    "    )\n",
    ")\n",
    "\n",
    "F1_L = rho_L * (\n",
    "    mgkfs_high_order_base(a_L, b_L, M_L, M_CL, 2, 0) + mgkfs_high_order_zeta_base(a_L, b_L, M_L, M_CL, Mz_L, 2, 0)\n",
    ")\n",
    "F2_L = rho_L * (\n",
    "    mgkfs_high_order_base(a_L, b_L, M_L, M_CL, 1, 1) + mgkfs_high_order_zeta_base(a_L, b_L, M_L, M_CL, Mz_L, 1, 1)\n",
    ")\n",
    "F3_L = rho_L * (\n",
    "    (mgkfs_high_order_base(a_L, b_L, M_L, M_CL, 3, 0) + mgkfs_high_order_base(a_L, b_L, M_L, M_CL, 1, 2)) / 2.0\n",
    "    + mgkfs_high_order_zeta_residual(a_L, b_L, M_L, M_CL, Mz_L, 1)\n",
    ")\n",
    "\n",
    "F1_R = rho_R * mgkfs_high_order_base(a_R, b_R, M_R, M_CR, 2, 0)\n",
    "F2_R = rho_R * mgkfs_high_order_base(a_R, b_R, M_R, M_CR, 1, 1)\n",
    "F3_R = (\n",
    "    rho_R * (mgkfs_high_order_base(a_R, b_R, M_R, M_CR, 3, 0) + mgkfs_high_order_base(a_R, b_R, M_R, M_CR, 1, 2)) / 2.0\n",
    ")\n",
    "\n",
    "F0 = rho_i * u1\n",
    "F1 = F1_I - tau * (F1_L + F1_R)\n",
    "F2 = F2_I - tau * (F2_L + F2_R)\n",
    "F3 = F3_I - tau * (F3_L + F3_R)"
   ]
  },
  {
   "cell_type": "code",
   "execution_count": 114,
   "metadata": {},
   "outputs": [
    {
     "name": "stdout",
     "output_type": "stream",
     "text": [
      "0.8826020420121635 0.013613183570381961 0.06911895684992518\n",
      "1.6441533057322453 2.1482753828529635 3.4596080638638917\n"
     ]
    }
   ],
   "source": [
    "# ref:\n",
    "#   F1_I,F2_I,F3_I={0.60777, -0.00982231, -0.0133257}\n",
    "#   F1_L,F2_L,F3_L={1.64415,2.14828,3.45961}\n",
    "#   F1_R,F2_R,F3_R={0.260872,-1.13659,-1.27191}\n",
    "print(F1_I, F2_I, F3_I)\n",
    "print(F1_L, F2_L, F3_L)"
   ]
  },
  {
   "cell_type": "code",
   "execution_count": 54,
   "metadata": {},
   "outputs": [
    {
     "data": {
      "image/png": "[encoded data removed]",
      "text/plain": [
       "<Figure size 1000x600 with 1 Axes>"
      ]
     },
     "metadata": {},
     "output_type": "display_data"
    }
   ],
   "source": [
    "from scipy.integrate import solve_ivp\n",
    "\n",
    "# Keep original parameters\n",
    "nx = 200\n",
    "nt = 20\n",
    "dx = 2.0 / (nx - 1)\n",
    "dt = 0.01\n",
    "c = 4.0\n",
    "t_span = (0, dt * nt)\n",
    "\n",
    "x = np.linspace(0, 2, nx)\n",
    "u_base = np.ones(nx)\n",
    "u_base[int(0.5 / dx) : int(1 / dx + 1)] = 2\n",
    "\n",
    "# Keep original methods\n",
    "u_linear = u_base.copy()\n",
    "u_second = u_base.copy()\n",
    "\n",
    "\n",
    "def flux(u):\n",
    "    return c * u\n",
    "\n",
    "\n",
    "# Original 1st order method\n",
    "for n in range(nt):\n",
    "    un = u_linear.copy()\n",
    "    for i in range(1, nx):\n",
    "        u_linear[i] = un[i] - dt / dx * (flux(un[i]) - flux(un[i - 1]))\n",
    "\n",
    "# Original 2nd order method\n",
    "for n in range(nt):\n",
    "    un = u_second.copy()\n",
    "    for i in range(1 + 1, nx - 1):\n",
    "        u_i = (un[i] + un[i + 1]) / 2\n",
    "        u_i_minus = (un[i - 1] + un[i]) / 2\n",
    "        u_second[i] = un[i] - dt / dx * (flux(u_i) - flux(u_i_minus))\n",
    "\n",
    "\n",
    "def advection_o1(t, u):\n",
    "    dudx = np.zeros_like(u)\n",
    "    for i in range(1, nx):\n",
    "        dudx[i] = -(flux(u[i]) - flux(u[i - 1])) / dx\n",
    "    return dudx\n",
    "\n",
    "\n",
    "def advection_o2(t, u):\n",
    "    dudx = np.zeros_like(u)\n",
    "    for i in range(1, nx - 1):\n",
    "        u_i = (un[i] + un[i + 1]) / 2\n",
    "        u_i_minus = (un[i - 1] + un[i]) / 2\n",
    "        dudx[i] = -(flux(u_i) - flux(u_i_minus)) / dx\n",
    "    return dudx\n",
    "\n",
    "\n",
    "def van_leer_limiter(r):\n",
    "    return (r + abs(r)) / (1 + abs(r))\n",
    "\n",
    "\n",
    "def advection_o3(t, u):\n",
    "    dudx = np.zeros_like(u)\n",
    "\n",
    "    for i in range(1, nx - 1):\n",
    "        delta_minus = u[i] - u[i - 1]\n",
    "        delta_plus = u[i + 1] - u[i]\n",
    "\n",
    "        eps = 1e-10\n",
    "\n",
    "        if abs(delta_minus) > eps:\n",
    "            r = delta_plus / delta_minus\n",
    "        else:\n",
    "            r = delta_plus / eps\n",
    "\n",
    "        phi = van_leer_limiter(r)\n",
    "        phi = 1\n",
    "\n",
    "        u_half = u[i] + 0.5 * phi * delta_minus\n",
    "        u_half_minus = u[i - 1] + 0.5 * phi * (u[i - 1] - u[i - 2])\n",
    "\n",
    "        dudx[i] = -(flux(u_half) - flux(u_half_minus)) / dx\n",
    "    return dudx\n",
    "\n",
    "\n",
    "sol_o1 = solve_ivp(\n",
    "    advection_o1, t_span, u_base, method=\"RK45\", t_eval=np.linspace(0, dt * nt, nt + 1), rtol=1e-3, atol=1e-8\n",
    ")\n",
    "sol_o2 = solve_ivp(\n",
    "    advection_o2, t_span, u_base, method=\"RK45\", t_eval=np.linspace(0, dt * nt, nt + 1), rtol=1e-3, atol=1e-8\n",
    ")\n",
    "sol_v = solve_ivp(\n",
    "    advection_o3, t_span, u_base, method=\"RK45\", t_eval=np.linspace(0, dt * nt, nt + 1), rtol=1e-3, atol=1e-8\n",
    ")\n",
    "\n",
    "plt.figure(figsize=(10, 6))\n",
    "plt.plot(x, u_base, \"g-x\", label=\"Initial\")\n",
    "plt.plot(x, sol_o1.y[:, -1], \"k--\", label=\"1-order\")\n",
    "# plt.plot(x, sol_o2.y[:, -1], \"r-x\", label=\"2-order\")\n",
    "plt.plot(x, sol_v.y[:, -1], \"r-x\", label=\"van Leer\")\n",
    "plt.grid(True)\n",
    "plt.xlabel(\"x\")\n",
    "plt.ylabel(\"u\")\n",
    "plt.title(\"1D Advection Equation\")\n",
    "plt.legend()\n",
    "plt.show()\n"
   ]
  }
 ],
 "metadata": {
  "kernelspec": {
   "display_name": ".venv",
   "language": "python",
   "name": "python3"
  },
  "language_info": {
   "codemirror_mode": {
    "name": "ipython",
    "version": 3
   },
   "file_extension": ".py",
   "mimetype": "text/x-python",
   "name": "python",
   "nbconvert_exporter": "python",
   "pygments_lexer": "ipython3",
   "version": "3.11.10"
  }
 },
 "nbformat": 4,
 "nbformat_minor": 2
}
